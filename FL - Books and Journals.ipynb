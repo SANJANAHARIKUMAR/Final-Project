{
 "cells": [
  {
   "cell_type": "code",
   "execution_count": 1,
   "metadata": {},
   "outputs": [],
   "source": [
    "import time\n",
    "import pandas as pd\n",
    "from tqdm import tqdm\n",
    "from selenium import webdriver\n",
    "from selenium.webdriver.common.by import By\n",
    "from selenium.webdriver.support.ui import WebDriverWait\n",
    "from selenium.common.exceptions import StaleElementReferenceException"
   ]
  },
  {
   "cell_type": "code",
   "execution_count": 2,
   "metadata": {},
   "outputs": [],
   "source": [
    "link = 'https://www.sciencedirect.com/browse/journals-and-books'\n",
    "journalsLink = 'https://www.sciencedirect.com/browse/journals-and-books?page=1&contentType=JL'\n",
    "booksLink = 'https://www.sciencedirect.com/browse/journals-and-books?contentType=BK'\n"
   ]
  },
  {
   "cell_type": "code",
   "execution_count": 3,
   "metadata": {},
   "outputs": [
    {
     "name": "stderr",
     "output_type": "stream",
     "text": [
      "/var/folders/vw/g1hn25td3yb5n0ck120v64x80000gn/T/ipykernel_67244/520417946.py:1: DeprecationWarning: executable_path has been deprecated, please pass in a Service object\n",
      "  driver = webdriver.Chrome(executable_path= 'D:\\Softwares\\Selenium\\chromedriver')\n"
     ]
    }
   ],
   "source": [
    "driver = webdriver.Chrome(executable_path= 'D:\\Softwares\\Selenium\\chromedriver')"
   ]
  },
  {
   "cell_type": "code",
   "execution_count": 4,
   "metadata": {},
   "outputs": [
    {
     "name": "stderr",
     "output_type": "stream",
     "text": [
      "100%|███████████████████████████████████████████| 47/47 [02:39<00:00,  3.39s/it]\n"
     ]
    }
   ],
   "source": [
    "BJListLinks = []\n",
    "\n",
    "for page in tqdm(range(1, 48)):#47 pages there for knowing the status we use tqdm\n",
    "    jLink = 'https://www.sciencedirect.com/browse/journals-and-books?page='+str(page)+'&contentType=JL'\n",
    "    driver.get(jLink)\n",
    "    try:\n",
    "        BJElements = driver.find_elements(By.CSS_SELECTOR,'li[class = \"publication u-padding-xs-ver js-publication\"]')\n",
    "        for ele in BJElements:\n",
    "            # print(ele.text)\n",
    "            BJName = ele.text.split('\\n')[0]\n",
    "            Types = ele.text.split('\\n')[1].split('  ')\n",
    "            BJType = Types[0]\n",
    "            BJAccessType = Types[-1] if len(Types) == 3 else 'Not Available'\n",
    "            BJLink = ele.find_element(By.CSS_SELECTOR, 'a').get_attribute('href')\n",
    "            BJListLinks.append([BJName, BJLink, BJType, BJAccessType])#consider it as one element\n",
    "\n",
    "    except StaleElementReferenceException :\n",
    "        BJElements = driver.find_elements(By.CSS_SELECTOR,'li[class = \"publication u-padding-xs-ver js-publication\"]')\n",
    "        for ele in BJElements:\n",
    "            # print(ele.text)\n",
    "            BJName = ele.text.split('\\n')[0]\n",
    "            Types = ele.text.split('\\n')[1].split('  ')\n",
    "            BJType = Types[0]\n",
    "            BJAccessType = Types[-1] if len(Types) == 3 else 'Not Available'\n",
    "            BJLink = ele.find_element(By.CSS_SELECTOR, 'a').get_attribute('href')\n",
    "            BJListLinks.append([BJName, BJLink, BJType, BJAccessType])\n",
    "    "
   ]
  },
  {
   "cell_type": "code",
   "execution_count": 5,
   "metadata": {},
   "outputs": [
    {
     "data": {
      "text/html": [
       "<div>\n",
       "<style scoped>\n",
       "    .dataframe tbody tr th:only-of-type {\n",
       "        vertical-align: middle;\n",
       "    }\n",
       "\n",
       "    .dataframe tbody tr th {\n",
       "        vertical-align: top;\n",
       "    }\n",
       "\n",
       "    .dataframe thead th {\n",
       "        text-align: right;\n",
       "    }\n",
       "</style>\n",
       "<table border=\"1\" class=\"dataframe\">\n",
       "  <thead>\n",
       "    <tr style=\"text-align: right;\">\n",
       "      <th></th>\n",
       "      <th>Content Name</th>\n",
       "      <th>Link</th>\n",
       "      <th>Type</th>\n",
       "      <th>Access Type</th>\n",
       "    </tr>\n",
       "  </thead>\n",
       "  <tbody>\n",
       "    <tr>\n",
       "      <th>0</th>\n",
       "      <td>AACE Clinical Case Reports</td>\n",
       "      <td>https://www.sciencedirect.com/journal/aace-cli...</td>\n",
       "      <td>Journal</td>\n",
       "      <td>Open access</td>\n",
       "    </tr>\n",
       "    <tr>\n",
       "      <th>1</th>\n",
       "      <td>AASRI Procedia</td>\n",
       "      <td>https://www.sciencedirect.com/journal/aasri-pr...</td>\n",
       "      <td>Journal</td>\n",
       "      <td>Open access</td>\n",
       "    </tr>\n",
       "    <tr>\n",
       "      <th>2</th>\n",
       "      <td>Academic Pathology</td>\n",
       "      <td>https://www.sciencedirect.com/journal/academic...</td>\n",
       "      <td>Journal</td>\n",
       "      <td>Open access</td>\n",
       "    </tr>\n",
       "    <tr>\n",
       "      <th>3</th>\n",
       "      <td>Academic Pediatrics</td>\n",
       "      <td>https://www.sciencedirect.com/journal/academic...</td>\n",
       "      <td>Journal</td>\n",
       "      <td>Contains open access</td>\n",
       "    </tr>\n",
       "    <tr>\n",
       "      <th>4</th>\n",
       "      <td>Academic Radiology</td>\n",
       "      <td>https://www.sciencedirect.com/journal/academic...</td>\n",
       "      <td>Journal</td>\n",
       "      <td>Contains open access</td>\n",
       "    </tr>\n",
       "    <tr>\n",
       "      <th>...</th>\n",
       "      <td>...</td>\n",
       "      <td>...</td>\n",
       "      <td>...</td>\n",
       "      <td>...</td>\n",
       "    </tr>\n",
       "    <tr>\n",
       "      <th>4675</th>\n",
       "      <td>Zeszyty Naukowe WCO, Letters in Oncology Science</td>\n",
       "      <td>https://www.sciencedirect.com/journal/zeszyty-...</td>\n",
       "      <td>Journal</td>\n",
       "      <td>Not Available</td>\n",
       "    </tr>\n",
       "    <tr>\n",
       "      <th>4676</th>\n",
       "      <td>Zoological Journal of the Linnean Society</td>\n",
       "      <td>https://www.sciencedirect.com/journal/zoologic...</td>\n",
       "      <td>Journal</td>\n",
       "      <td>Contains open access</td>\n",
       "    </tr>\n",
       "    <tr>\n",
       "      <th>4677</th>\n",
       "      <td>Der Zoologische Garten</td>\n",
       "      <td>https://www.sciencedirect.com/journal/der-zool...</td>\n",
       "      <td>Journal</td>\n",
       "      <td>Contains open access</td>\n",
       "    </tr>\n",
       "    <tr>\n",
       "      <th>4678</th>\n",
       "      <td>Zoologischer Anzeiger</td>\n",
       "      <td>https://www.sciencedirect.com/journal/zoologis...</td>\n",
       "      <td>Journal</td>\n",
       "      <td>Contains open access</td>\n",
       "    </tr>\n",
       "    <tr>\n",
       "      <th>4679</th>\n",
       "      <td>Zoology</td>\n",
       "      <td>https://www.sciencedirect.com/journal/zoology</td>\n",
       "      <td>Journal</td>\n",
       "      <td>Contains open access</td>\n",
       "    </tr>\n",
       "  </tbody>\n",
       "</table>\n",
       "<p>4680 rows × 4 columns</p>\n",
       "</div>"
      ],
      "text/plain": [
       "                                          Content Name  \\\n",
       "0                           AACE Clinical Case Reports   \n",
       "1                                       AASRI Procedia   \n",
       "2                                   Academic Pathology   \n",
       "3                                  Academic Pediatrics   \n",
       "4                                   Academic Radiology   \n",
       "...                                                ...   \n",
       "4675  Zeszyty Naukowe WCO, Letters in Oncology Science   \n",
       "4676         Zoological Journal of the Linnean Society   \n",
       "4677                            Der Zoologische Garten   \n",
       "4678                             Zoologischer Anzeiger   \n",
       "4679                                           Zoology   \n",
       "\n",
       "                                                   Link     Type  \\\n",
       "0     https://www.sciencedirect.com/journal/aace-cli...  Journal   \n",
       "1     https://www.sciencedirect.com/journal/aasri-pr...  Journal   \n",
       "2     https://www.sciencedirect.com/journal/academic...  Journal   \n",
       "3     https://www.sciencedirect.com/journal/academic...  Journal   \n",
       "4     https://www.sciencedirect.com/journal/academic...  Journal   \n",
       "...                                                 ...      ...   \n",
       "4675  https://www.sciencedirect.com/journal/zeszyty-...  Journal   \n",
       "4676  https://www.sciencedirect.com/journal/zoologic...  Journal   \n",
       "4677  https://www.sciencedirect.com/journal/der-zool...  Journal   \n",
       "4678  https://www.sciencedirect.com/journal/zoologis...  Journal   \n",
       "4679      https://www.sciencedirect.com/journal/zoology  Journal   \n",
       "\n",
       "               Access Type  \n",
       "0              Open access  \n",
       "1              Open access  \n",
       "2              Open access  \n",
       "3     Contains open access  \n",
       "4     Contains open access  \n",
       "...                    ...  \n",
       "4675         Not Available  \n",
       "4676  Contains open access  \n",
       "4677  Contains open access  \n",
       "4678  Contains open access  \n",
       "4679  Contains open access  \n",
       "\n",
       "[4680 rows x 4 columns]"
      ]
     },
     "execution_count": 5,
     "metadata": {},
     "output_type": "execute_result"
    }
   ],
   "source": [
    "BJListLinksDF = pd.DataFrame(BJListLinks, columns=['Content Name', 'Link', 'Type', 'Access Type'])\n",
    "BJListLinksDF# store in dataframe for data manupulation"
   ]
  },
  {
   "cell_type": "code",
   "execution_count": 6,
   "metadata": {},
   "outputs": [],
   "source": [
    "BJListLinksDF.to_excel('Journal Primary Data v2.xlsx', index = False)"
   ]
  },
  {
   "cell_type": "code",
   "execution_count": null,
   "metadata": {},
   "outputs": [],
   "source": []
  },
  {
   "cell_type": "code",
   "execution_count": null,
   "metadata": {},
   "outputs": [],
   "source": []
  }
 ],
 "metadata": {
  "kernelspec": {
   "display_name": "Python 3 (ipykernel)",
   "language": "python",
   "name": "python3"
  },
  "language_info": {
   "codemirror_mode": {
    "name": "ipython",
    "version": 3
   },
   "file_extension": ".py",
   "mimetype": "text/x-python",
   "name": "python",
   "nbconvert_exporter": "python",
   "pygments_lexer": "ipython3",
   "version": "3.9.13"
  },
  "vscode": {
   "interpreter": {
    "hash": "dc07d24e2f18896857f0b2a651fe84ba40ce7b297e58d8804a308c8039f752a6"
   }
  }
 },
 "nbformat": 4,
 "nbformat_minor": 2
}
