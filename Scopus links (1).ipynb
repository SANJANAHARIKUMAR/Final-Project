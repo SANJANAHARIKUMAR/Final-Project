{
 "cells": [
  {
   "cell_type": "code",
   "execution_count": 1,
   "metadata": {},
   "outputs": [],
   "source": [
    "# import time\n",
    "import pandas as pd\n",
    "from tqdm import tqdm\n",
    "from selenium import webdriver\n",
    "from selenium.webdriver.common.by import By\n",
    "# from selenium.webdriver.support.ui import WebDriverWait\n",
    "# from selenium.common.exceptions import StaleElementReferenceException"
   ]
  },
  {
   "cell_type": "code",
   "execution_count": 2,
   "metadata": {},
   "outputs": [],
   "source": [
    "link = 'https://www.scopus.com/sources.uri?zone=TopNavBar&origin=searchbasic'"
   ]
  },
  {
   "cell_type": "code",
   "execution_count": 3,
   "metadata": {},
   "outputs": [
    {
     "name": "stderr",
     "output_type": "stream",
     "text": [
      "/var/folders/vw/g1hn25td3yb5n0ck120v64x80000gn/T/ipykernel_65964/520417946.py:1: DeprecationWarning: executable_path has been deprecated, please pass in a Service object\n",
      "  driver = webdriver.Chrome(executable_path= 'D:\\Softwares\\Selenium\\chromedriver')\n"
     ]
    }
   ],
   "source": [
    "driver = webdriver.Chrome(executable_path= 'D:\\Softwares\\Selenium\\chromedriver')"
   ]
  },
  {
   "cell_type": "code",
   "execution_count": 4,
   "metadata": {},
   "outputs": [],
   "source": [
    "driver.get(link)\n",
    "JPrimaryList = []"
   ]
  },
  {
   "cell_type": "markdown",
   "metadata": {},
   "source": [
    "###### Display 200 results per page\n",
    "###### Run the following code each time next page is clicked(5 times in total)"
   ]
  },
  {
   "cell_type": "code",
   "execution_count": 5,
   "metadata": {},
   "outputs": [
    {
     "name": "stderr",
     "output_type": "stream",
     "text": [
      "100%|███████████████████████████████████████████| 20/20 [00:03<00:00,  6.62it/s]\n"
     ]
    }
   ],
   "source": [
    "# JPrimaryList = []\n",
    "\n",
    "jElements = driver.find_elements(By.CSS_SELECTOR, 'table[id = \"sourceResults\"] tr')\n",
    "len(jElements)\n",
    "for ele in tqdm(jElements[1:]):\n",
    "    JournalName = ele.find_elements(By.CSS_SELECTOR, 'td')[1].text\n",
    "    JournalLink = ele.find_element(By.CSS_SELECTOR, 'td a').get_attribute('href')\n",
    "    CiteScore = ele.find_elements(By.CSS_SELECTOR, 'td')[2].text\n",
    "    HighestPercentile = ele.find_elements(By.CSS_SELECTOR, 'td')[3].text\n",
    "    Citation2018to21 = ele.find_elements(By.CSS_SELECTOR, 'td')[4].text\n",
    "    Documents2018to21 = ele.find_elements(By.CSS_SELECTOR, 'td')[5].text\n",
    "    PercentageCited = ele.find_elements(By.CSS_SELECTOR, 'td')[6].text\n",
    "    SNIP = ele.find_elements(By.CSS_SELECTOR, 'td')[7].text\n",
    "    SJR = ele.find_elements(By.CSS_SELECTOR, 'td')[8].text\n",
    "    Publisher = ele.find_elements(By.CSS_SELECTOR, 'td')[9].text\n",
    "    # print(ele.find_elements(By.CSS_SELECTOR, 'td')[9].text)\n",
    "\n",
    "    JPrimaryList.append([JournalName, JournalLink, CiteScore, HighestPercentile, Citation2018to21, Documents2018to21, PercentageCited, SNIP, SJR, Publisher])\n"
   ]
  },
  {
   "cell_type": "code",
   "execution_count": 6,
   "metadata": {},
   "outputs": [
    {
     "data": {
      "text/html": [
       "<div>\n",
       "<style scoped>\n",
       "    .dataframe tbody tr th:only-of-type {\n",
       "        vertical-align: middle;\n",
       "    }\n",
       "\n",
       "    .dataframe tbody tr th {\n",
       "        vertical-align: top;\n",
       "    }\n",
       "\n",
       "    .dataframe thead th {\n",
       "        text-align: right;\n",
       "    }\n",
       "</style>\n",
       "<table border=\"1\" class=\"dataframe\">\n",
       "  <thead>\n",
       "    <tr style=\"text-align: right;\">\n",
       "      <th></th>\n",
       "      <th>Journal Name</th>\n",
       "      <th>Journal Link</th>\n",
       "      <th>Cite Score</th>\n",
       "      <th>Highest Percentile</th>\n",
       "      <th>Citation 2018-21</th>\n",
       "      <th>Documents 2018-21</th>\n",
       "      <th>Percentage Cited</th>\n",
       "      <th>SNIP</th>\n",
       "      <th>SJR</th>\n",
       "      <th>Publisher</th>\n",
       "    </tr>\n",
       "  </thead>\n",
       "  <tbody>\n",
       "    <tr>\n",
       "      <th>18</th>\n",
       "      <td>Physiological Reviews</td>\n",
       "      <td>https://www.scopus.com/sourceid/24004</td>\n",
       "      <td>68.2</td>\n",
       "      <td>99%\\n1/180\\nPhysiology</td>\n",
       "      <td>11,862</td>\n",
       "      <td>174</td>\n",
       "      <td>98</td>\n",
       "      <td></td>\n",
       "      <td></td>\n",
       "      <td></td>\n",
       "    </tr>\n",
       "    <tr>\n",
       "      <th>19</th>\n",
       "      <td>Nature Reviews Drug Discovery</td>\n",
       "      <td>https://www.scopus.com/sourceid/20425</td>\n",
       "      <td>65.9</td>\n",
       "      <td>99%\\n1/303\\nPharmacology</td>\n",
       "      <td>18,445</td>\n",
       "      <td>280</td>\n",
       "      <td>77</td>\n",
       "      <td></td>\n",
       "      <td></td>\n",
       "      <td></td>\n",
       "    </tr>\n",
       "  </tbody>\n",
       "</table>\n",
       "</div>"
      ],
      "text/plain": [
       "                     Journal Name                           Journal Link  \\\n",
       "18          Physiological Reviews  https://www.scopus.com/sourceid/24004   \n",
       "19  Nature Reviews Drug Discovery  https://www.scopus.com/sourceid/20425   \n",
       "\n",
       "   Cite Score        Highest Percentile Citation 2018-21 Documents 2018-21  \\\n",
       "18       68.2    99%\\n1/180\\nPhysiology           11,862               174   \n",
       "19       65.9  99%\\n1/303\\nPharmacology           18,445               280   \n",
       "\n",
       "   Percentage Cited SNIP SJR Publisher  \n",
       "18               98                     \n",
       "19               77                     "
      ]
     },
     "execution_count": 6,
     "metadata": {},
     "output_type": "execute_result"
    }
   ],
   "source": [
    "JPrimaryDF = pd.DataFrame(JPrimaryList, columns=['Journal Name', 'Journal Link', 'Cite Score', 'Highest Percentile', 'Citation 2018-21', 'Documents 2018-21', 'Percentage Cited', 'SNIP', 'SJR', 'Publisher'])\n",
    "JPrimaryDF.tail(2)"
   ]
  },
  {
   "cell_type": "code",
   "execution_count": 7,
   "metadata": {},
   "outputs": [],
   "source": [
    "JPrimaryDF.drop_duplicates(inplace=True)"
   ]
  },
  {
   "cell_type": "code",
   "execution_count": 8,
   "metadata": {},
   "outputs": [],
   "source": [
    "JPrimaryDF.to_excel('Spocus journals Link v2.xlsx', index = False)"
   ]
  },
  {
   "cell_type": "code",
   "execution_count": null,
   "metadata": {},
   "outputs": [],
   "source": []
  }
 ],
 "metadata": {
  "kernelspec": {
   "display_name": "Python 3 (ipykernel)",
   "language": "python",
   "name": "python3"
  },
  "language_info": {
   "codemirror_mode": {
    "name": "ipython",
    "version": 3
   },
   "file_extension": ".py",
   "mimetype": "text/x-python",
   "name": "python",
   "nbconvert_exporter": "python",
   "pygments_lexer": "ipython3",
   "version": "3.9.13"
  },
  "vscode": {
   "interpreter": {
    "hash": "dc07d24e2f18896857f0b2a651fe84ba40ce7b297e58d8804a308c8039f752a6"
   }
  }
 },
 "nbformat": 4,
 "nbformat_minor": 2
}
