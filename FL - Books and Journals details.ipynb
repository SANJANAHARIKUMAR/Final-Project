{
 "cells": [
  {
   "cell_type": "code",
   "execution_count": 1,
   "metadata": {},
   "outputs": [],
   "source": [
    "import time\n",
    "import pandas as pd\n",
    "from tqdm import tqdm\n",
    "from selenium import webdriver\n",
    "from selenium.webdriver.common.by import By\n",
    "from selenium.webdriver.support.ui import WebDriverWait\n",
    "from selenium.common.exceptions import NoSuchElementException\n",
    "from selenium.common.exceptions import StaleElementReferenceException"
   ]
  },
  {
   "cell_type": "code",
   "execution_count": 2,
   "metadata": {},
   "outputs": [
    {
     "data": {
      "text/html": [
       "<div>\n",
       "<style scoped>\n",
       "    .dataframe tbody tr th:only-of-type {\n",
       "        vertical-align: middle;\n",
       "    }\n",
       "\n",
       "    .dataframe tbody tr th {\n",
       "        vertical-align: top;\n",
       "    }\n",
       "\n",
       "    .dataframe thead th {\n",
       "        text-align: right;\n",
       "    }\n",
       "</style>\n",
       "<table border=\"1\" class=\"dataframe\">\n",
       "  <thead>\n",
       "    <tr style=\"text-align: right;\">\n",
       "      <th></th>\n",
       "      <th>Content Name</th>\n",
       "      <th>Link</th>\n",
       "      <th>Type</th>\n",
       "      <th>Access Type</th>\n",
       "    </tr>\n",
       "  </thead>\n",
       "  <tbody>\n",
       "    <tr>\n",
       "      <th>0</th>\n",
       "      <td>AACE Clinical Case Reports</td>\n",
       "      <td>https://www.sciencedirect.com/journal/aace-cli...</td>\n",
       "      <td>Journal</td>\n",
       "      <td>Open access</td>\n",
       "    </tr>\n",
       "    <tr>\n",
       "      <th>1</th>\n",
       "      <td>AASRI Procedia</td>\n",
       "      <td>https://www.sciencedirect.com/journal/aasri-pr...</td>\n",
       "      <td>Journal</td>\n",
       "      <td>Open access</td>\n",
       "    </tr>\n",
       "    <tr>\n",
       "      <th>2</th>\n",
       "      <td>Academic Pathology</td>\n",
       "      <td>https://www.sciencedirect.com/journal/academic...</td>\n",
       "      <td>Journal</td>\n",
       "      <td>Open access</td>\n",
       "    </tr>\n",
       "    <tr>\n",
       "      <th>3</th>\n",
       "      <td>Academic Pediatrics</td>\n",
       "      <td>https://www.sciencedirect.com/journal/academic...</td>\n",
       "      <td>Journal</td>\n",
       "      <td>Contains open access</td>\n",
       "    </tr>\n",
       "    <tr>\n",
       "      <th>4</th>\n",
       "      <td>Academic Radiology</td>\n",
       "      <td>https://www.sciencedirect.com/journal/academic...</td>\n",
       "      <td>Journal</td>\n",
       "      <td>Contains open access</td>\n",
       "    </tr>\n",
       "  </tbody>\n",
       "</table>\n",
       "</div>"
      ],
      "text/plain": [
       "                 Content Name  \\\n",
       "0  AACE Clinical Case Reports   \n",
       "1              AASRI Procedia   \n",
       "2          Academic Pathology   \n",
       "3         Academic Pediatrics   \n",
       "4          Academic Radiology   \n",
       "\n",
       "                                                Link     Type  \\\n",
       "0  https://www.sciencedirect.com/journal/aace-cli...  Journal   \n",
       "1  https://www.sciencedirect.com/journal/aasri-pr...  Journal   \n",
       "2  https://www.sciencedirect.com/journal/academic...  Journal   \n",
       "3  https://www.sciencedirect.com/journal/academic...  Journal   \n",
       "4  https://www.sciencedirect.com/journal/academic...  Journal   \n",
       "\n",
       "            Access Type  \n",
       "0           Open access  \n",
       "1           Open access  \n",
       "2           Open access  \n",
       "3  Contains open access  \n",
       "4  Contains open access  "
      ]
     },
     "execution_count": 2,
     "metadata": {},
     "output_type": "execute_result"
    }
   ],
   "source": [
    "BJdf = pd.read_excel('Journal Primary Data v2.xlsx')\n",
    "BJdf.head()"
   ]
  },
  {
   "cell_type": "code",
   "execution_count": 3,
   "metadata": {},
   "outputs": [
    {
     "data": {
      "text/plain": [
       "['AACE Clinical Case Reports',\n",
       " 'https://www.sciencedirect.com/journal/aace-clinical-case-reports',\n",
       " 'Journal',\n",
       " 'Open access']"
      ]
     },
     "execution_count": 3,
     "metadata": {},
     "output_type": "execute_result"
    }
   ],
   "source": [
    "BJlist = BJdf.values.tolist()#for ease of iteration\n",
    "BJlist[0]"
   ]
  },
  {
   "cell_type": "code",
   "execution_count": 4,
   "metadata": {},
   "outputs": [
    {
     "name": "stderr",
     "output_type": "stream",
     "text": [
      "/var/folders/vw/g1hn25td3yb5n0ck120v64x80000gn/T/ipykernel_67400/520417946.py:1: DeprecationWarning: executable_path has been deprecated, please pass in a Service object\n",
      "  driver = webdriver.Chrome(executable_path= 'D:\\Softwares\\Selenium\\chromedriver')\n"
     ]
    }
   ],
   "source": [
    "driver = webdriver.Chrome(executable_path= 'D:\\Softwares\\Selenium\\chromedriver')"
   ]
  },
  {
   "cell_type": "code",
   "execution_count": 5,
   "metadata": {},
   "outputs": [
    {
     "name": "stderr",
     "output_type": "stream",
     "text": [
      "100%|█████████████████████████████████████████| 150/150 [08:45<00:00,  3.51s/it]\n"
     ]
    }
   ],
   "source": [
    "bjSecondaryList = []\n",
    "for bjName, bjLink, bjType, bjAccessType in tqdm(BJlist[4530:]):\n",
    "    time.sleep(2)\n",
    "    driver.get(bjLink)\n",
    "    \n",
    "    try:\n",
    "        try:\n",
    "            try:\n",
    "                driver.find_element(By.CSS_SELECTOR, 'button[class = \"button-link button-link-secondary\"]').click()\n",
    "                slideOutText = driver.find_element(By.CSS_SELECTOR, 'div[class = \"slide-out show\"]').text\n",
    "                # print(slideOutText.split('\\n\\n\\n')[-1])\n",
    "                AimAndScope = slideOutText\n",
    "                bjSecondaryList.append([bjName, bjLink, bjType, bjAccessType, AimAndScope])\n",
    "            except NoSuchElementException:\n",
    "                AimAndScope = driver.find_element(By.CSS_SELECTOR, 'div[class = \"text-s u-margin-xs-ver u-clr-grey7 js-title-evolutions\"]').text\n",
    "                bjSecondaryList.append([bjName, bjLink, bjType, bjAccessType, AimAndScope])\n",
    "        except StaleElementReferenceException :\n",
    "            try:\n",
    "                driver.find_element(By.CSS_SELECTOR, 'button[class = \"button-link button-link-secondary\"]').click()\n",
    "                slideOutText = driver.find_element(By.CSS_SELECTOR, 'div[class = \"slide-out show\"]').text\n",
    "                # print(slideOutText.split('\\n\\n\\n')[-1])\n",
    "                AimAndScope = slideOutText\n",
    "                bjSecondaryList.append([bjName, bjLink, bjType, bjAccessType, AimAndScope])\n",
    "            except NoSuchElementException:\n",
    "                AimAndScope = driver.find_element(By.CSS_SELECTOR, 'div[class = \"text-s u-margin-xs-ver u-clr-grey7 js-title-evolutions\"]').text\n",
    "                bjSecondaryList.append([bjName, bjLink, bjType, bjAccessType, AimAndScope])\n",
    "    except:\n",
    "        AimAndScope = 'Check Manually'\n",
    "        bjSecondaryList.append([bjName, bjLink, bjType, bjAccessType, AimAndScope])\n"
   ]
  },
  {
   "cell_type": "code",
   "execution_count": 6,
   "metadata": {},
   "outputs": [
    {
     "data": {
      "text/html": [
       "<div>\n",
       "<style scoped>\n",
       "    .dataframe tbody tr th:only-of-type {\n",
       "        vertical-align: middle;\n",
       "    }\n",
       "\n",
       "    .dataframe tbody tr th {\n",
       "        vertical-align: top;\n",
       "    }\n",
       "\n",
       "    .dataframe thead th {\n",
       "        text-align: right;\n",
       "    }\n",
       "</style>\n",
       "<table border=\"1\" class=\"dataframe\">\n",
       "  <thead>\n",
       "    <tr style=\"text-align: right;\">\n",
       "      <th></th>\n",
       "      <th>Content Name</th>\n",
       "      <th>Link</th>\n",
       "      <th>Type</th>\n",
       "      <th>Access Type</th>\n",
       "      <th>Aim \\ Scope</th>\n",
       "    </tr>\n",
       "  </thead>\n",
       "  <tbody>\n",
       "    <tr>\n",
       "      <th>145</th>\n",
       "      <td>Zeszyty Naukowe WCO, Letters in Oncology Science</td>\n",
       "      <td>https://www.sciencedirect.com/journal/zeszyty-...</td>\n",
       "      <td>Journal</td>\n",
       "      <td>Not Available</td>\n",
       "      <td>Transferred back to the society as of 2016;</td>\n",
       "    </tr>\n",
       "    <tr>\n",
       "      <th>146</th>\n",
       "      <td>Zoological Journal of the Linnean Society</td>\n",
       "      <td>https://www.sciencedirect.com/journal/zoologic...</td>\n",
       "      <td>Journal</td>\n",
       "      <td>Contains open access</td>\n",
       "      <td>Transferred to Blackwell as of 2001;</td>\n",
       "    </tr>\n",
       "    <tr>\n",
       "      <th>147</th>\n",
       "      <td>Der Zoologische Garten</td>\n",
       "      <td>https://www.sciencedirect.com/journal/der-zool...</td>\n",
       "      <td>Journal</td>\n",
       "      <td>Contains open access</td>\n",
       "      <td>Title discontinued as of 2018;</td>\n",
       "    </tr>\n",
       "    <tr>\n",
       "      <th>148</th>\n",
       "      <td>Zoologischer Anzeiger</td>\n",
       "      <td>https://www.sciencedirect.com/journal/zoologis...</td>\n",
       "      <td>Journal</td>\n",
       "      <td>Contains open access</td>\n",
       "      <td>Aims &amp; Scope\\nZoologischer Anzeiger - A Journa...</td>\n",
       "    </tr>\n",
       "    <tr>\n",
       "      <th>149</th>\n",
       "      <td>Zoology</td>\n",
       "      <td>https://www.sciencedirect.com/journal/zoology</td>\n",
       "      <td>Journal</td>\n",
       "      <td>Contains open access</td>\n",
       "      <td>Aims &amp; Scope\\nZoology is a journal devoted to ...</td>\n",
       "    </tr>\n",
       "  </tbody>\n",
       "</table>\n",
       "</div>"
      ],
      "text/plain": [
       "                                         Content Name  \\\n",
       "145  Zeszyty Naukowe WCO, Letters in Oncology Science   \n",
       "146         Zoological Journal of the Linnean Society   \n",
       "147                            Der Zoologische Garten   \n",
       "148                             Zoologischer Anzeiger   \n",
       "149                                           Zoology   \n",
       "\n",
       "                                                  Link     Type  \\\n",
       "145  https://www.sciencedirect.com/journal/zeszyty-...  Journal   \n",
       "146  https://www.sciencedirect.com/journal/zoologic...  Journal   \n",
       "147  https://www.sciencedirect.com/journal/der-zool...  Journal   \n",
       "148  https://www.sciencedirect.com/journal/zoologis...  Journal   \n",
       "149      https://www.sciencedirect.com/journal/zoology  Journal   \n",
       "\n",
       "              Access Type                                        Aim \\ Scope  \n",
       "145         Not Available        Transferred back to the society as of 2016;  \n",
       "146  Contains open access               Transferred to Blackwell as of 2001;  \n",
       "147  Contains open access                     Title discontinued as of 2018;  \n",
       "148  Contains open access  Aims & Scope\\nZoologischer Anzeiger - A Journa...  \n",
       "149  Contains open access  Aims & Scope\\nZoology is a journal devoted to ...  "
      ]
     },
     "execution_count": 6,
     "metadata": {},
     "output_type": "execute_result"
    }
   ],
   "source": [
    "bjSecondaryDF = pd.DataFrame(bjSecondaryList, columns=['Content Name', 'Link', 'Type', 'Access Type', 'Aim \\ Scope'])\n",
    "bjSecondaryDF.tail()"
   ]
  },
  {
   "cell_type": "code",
   "execution_count": 7,
   "metadata": {},
   "outputs": [],
   "source": [
    "bjSecondaryDF.to_excel('Journal Secondary Data v1 p16.xlsx', index=False)"
   ]
  },
  {
   "cell_type": "code",
   "execution_count": null,
   "metadata": {},
   "outputs": [],
   "source": []
  }
 ],
 "metadata": {
  "kernelspec": {
   "display_name": "Python 3 (ipykernel)",
   "language": "python",
   "name": "python3"
  },
  "language_info": {
   "codemirror_mode": {
    "name": "ipython",
    "version": 3
   },
   "file_extension": ".py",
   "mimetype": "text/x-python",
   "name": "python",
   "nbconvert_exporter": "python",
   "pygments_lexer": "ipython3",
   "version": "3.9.13"
  },
  "vscode": {
   "interpreter": {
    "hash": "dc07d24e2f18896857f0b2a651fe84ba40ce7b297e58d8804a308c8039f752a6"
   }
  }
 },
 "nbformat": 4,
 "nbformat_minor": 2
}
