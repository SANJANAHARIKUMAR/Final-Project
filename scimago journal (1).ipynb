{
 "cells": [
  {
   "cell_type": "code",
   "execution_count": 1,
   "metadata": {},
   "outputs": [],
   "source": [
    "import time\n",
    "import pandas as pd\n",
    "from tqdm import tqdm\n",
    "from selenium import webdriver\n",
    "from selenium.webdriver.common.by import By\n",
    "# from selenium.webdriver.support.ui import WebDriverWait\n",
    "# from selenium.common.exceptions import StaleElementReferenceException"
   ]
  },
  {
   "cell_type": "code",
   "execution_count": 2,
   "metadata": {},
   "outputs": [],
   "source": [
    "link = 'https://www.scimagojr.com/journalrank.php?category=3304&page=1&total_size=1381'"
   ]
  },
  {
   "cell_type": "code",
   "execution_count": 3,
   "metadata": {},
   "outputs": [],
   "source": [
    "preLink = 'https://www.scimagojr.com/journalrank.php?category=3304&page='\n",
    "postLink = '&total_size=1381'"
   ]
  },
  {
   "cell_type": "code",
   "execution_count": 4,
   "metadata": {},
   "outputs": [
    {
     "name": "stderr",
     "output_type": "stream",
     "text": [
      "/var/folders/vw/g1hn25td3yb5n0ck120v64x80000gn/T/ipykernel_66754/520417946.py:1: DeprecationWarning: executable_path has been deprecated, please pass in a Service object\n",
      "  driver = webdriver.Chrome(executable_path= 'D:\\Softwares\\Selenium\\chromedriver')\n"
     ]
    }
   ],
   "source": [
    "driver = webdriver.Chrome(executable_path= 'D:\\Softwares\\Selenium\\chromedriver')"
   ]
  },
  {
   "cell_type": "code",
   "execution_count": 5,
   "metadata": {},
   "outputs": [
    {
     "data": {
      "text/plain": [
       "27.62"
      ]
     },
     "execution_count": 5,
     "metadata": {},
     "output_type": "execute_result"
    }
   ],
   "source": [
    "1381/50"
   ]
  },
  {
   "cell_type": "code",
   "execution_count": 6,
   "metadata": {},
   "outputs": [
    {
     "name": "stderr",
     "output_type": "stream",
     "text": [
      "100%|███████████████████████████████████████████| 28/28 [03:43<00:00,  7.97s/it]\n"
     ]
    }
   ],
   "source": [
    "jPrimaryList = []\n",
    "for page in tqdm(range(1,29)):\n",
    "\n",
    "    driver.get(preLink + str(page) + postLink)\n",
    "    JournalElements = driver.find_elements(By.CSS_SELECTOR, 'tbody tr')\n",
    "    for ele in JournalElements:\n",
    "        # print(ele.text)\n",
    "        Rank = ele.find_elements(By.CSS_SELECTOR, 'td')[0].text\n",
    "        Journal = ele.find_elements(By.CSS_SELECTOR, 'td')[1].text\n",
    "        jLink = ele.find_element(By.CSS_SELECTOR, 'td a').get_attribute('href')\n",
    "        Type = ele.find_elements(By.CSS_SELECTOR, 'td')[2].text\n",
    "        SJR = ele.find_elements(By.CSS_SELECTOR, 'td')[3].text\n",
    "        HIndex = ele.find_elements(By.CSS_SELECTOR, 'td')[4].text\n",
    "        TotalDocs2021 = ele.find_elements(By.CSS_SELECTOR, 'td')[5].text\n",
    "        TotalDocs3yrs = ele.find_elements(By.CSS_SELECTOR, 'td')[6].text\n",
    "        TotalRefs2021 = ele.find_elements(By.CSS_SELECTOR, 'td')[7].text\n",
    "        TotalCites3yrs = ele.find_elements(By.CSS_SELECTOR, 'td')[8].text\n",
    "        CitableDocs3yrs = ele.find_elements(By.CSS_SELECTOR, 'td')[9].text\n",
    "        CitesPerDoc2Yrs = ele.find_elements(By.CSS_SELECTOR, 'td')[10].text\n",
    "        RefPerDoc2021 = ele.find_elements(By.CSS_SELECTOR, 'td')[11].text\n",
    "        Country = ele.find_element(By.CSS_SELECTOR, 'td img').get_attribute('title')\n",
    "        \n",
    "        jPrimaryList.append([Rank, Journal, jLink, Type, SJR, HIndex, TotalDocs2021, TotalDocs3yrs, TotalRefs2021, TotalCites3yrs, CitableDocs3yrs, CitesPerDoc2Yrs, RefPerDoc2021, Country])"
   ]
  },
  {
   "cell_type": "code",
   "execution_count": 7,
   "metadata": {},
   "outputs": [
    {
     "data": {
      "text/html": [
       "<div>\n",
       "<style scoped>\n",
       "    .dataframe tbody tr th:only-of-type {\n",
       "        vertical-align: middle;\n",
       "    }\n",
       "\n",
       "    .dataframe tbody tr th {\n",
       "        vertical-align: top;\n",
       "    }\n",
       "\n",
       "    .dataframe thead th {\n",
       "        text-align: right;\n",
       "    }\n",
       "</style>\n",
       "<table border=\"1\" class=\"dataframe\">\n",
       "  <thead>\n",
       "    <tr style=\"text-align: right;\">\n",
       "      <th></th>\n",
       "      <th>Rank</th>\n",
       "      <th>Journal</th>\n",
       "      <th>Link</th>\n",
       "      <th>Type</th>\n",
       "      <th>SJR</th>\n",
       "      <th>H Index</th>\n",
       "      <th>Total Docs (2021)</th>\n",
       "      <th>Total Docs (3yrs)</th>\n",
       "      <th>Total Refs (2021)</th>\n",
       "      <th>Total Cites (3yrs)</th>\n",
       "      <th>Citable Docs (3yrs)</th>\n",
       "      <th>Cites/Doc (2Yrs)</th>\n",
       "      <th>Ref/Doc (2021)</th>\n",
       "      <th>Country</th>\n",
       "    </tr>\n",
       "  </thead>\n",
       "  <tbody>\n",
       "    <tr>\n",
       "      <th>0</th>\n",
       "      <td>1</td>\n",
       "      <td>Review of Educational Research</td>\n",
       "      <td>https://www.scimagojr.com/journalsearch.php?q=...</td>\n",
       "      <td>journal</td>\n",
       "      <td>6.887 Q1</td>\n",
       "      <td>163</td>\n",
       "      <td>31</td>\n",
       "      <td>71</td>\n",
       "      <td>3642</td>\n",
       "      <td>1272</td>\n",
       "      <td>70</td>\n",
       "      <td>14.81</td>\n",
       "      <td>117.48</td>\n",
       "      <td>United States</td>\n",
       "    </tr>\n",
       "    <tr>\n",
       "      <th>1</th>\n",
       "      <td>2</td>\n",
       "      <td>Internet and Higher Education</td>\n",
       "      <td>https://www.scimagojr.com/journalsearch.php?q=...</td>\n",
       "      <td>journal</td>\n",
       "      <td>3.906 Q1</td>\n",
       "      <td>99</td>\n",
       "      <td>28</td>\n",
       "      <td>68</td>\n",
       "      <td>1991</td>\n",
       "      <td>875</td>\n",
       "      <td>68</td>\n",
       "      <td>10.80</td>\n",
       "      <td>71.11</td>\n",
       "      <td>United Kingdom</td>\n",
       "    </tr>\n",
       "    <tr>\n",
       "      <th>2</th>\n",
       "      <td>3</td>\n",
       "      <td>Computers and Education</td>\n",
       "      <td>https://www.scimagojr.com/journalsearch.php?q=...</td>\n",
       "      <td>journal</td>\n",
       "      <td>3.676 Q1</td>\n",
       "      <td>197</td>\n",
       "      <td>185</td>\n",
       "      <td>640</td>\n",
       "      <td>13186</td>\n",
       "      <td>9202</td>\n",
       "      <td>638</td>\n",
       "      <td>13.71</td>\n",
       "      <td>71.28</td>\n",
       "      <td>United Kingdom</td>\n",
       "    </tr>\n",
       "    <tr>\n",
       "      <th>3</th>\n",
       "      <td>4</td>\n",
       "      <td>Developmental Review</td>\n",
       "      <td>https://www.scimagojr.com/journalsearch.php?q=...</td>\n",
       "      <td>journal</td>\n",
       "      <td>3.485 Q1</td>\n",
       "      <td>100</td>\n",
       "      <td>32</td>\n",
       "      <td>69</td>\n",
       "      <td>4892</td>\n",
       "      <td>726</td>\n",
       "      <td>68</td>\n",
       "      <td>8.09</td>\n",
       "      <td>152.88</td>\n",
       "      <td>United States</td>\n",
       "    </tr>\n",
       "    <tr>\n",
       "      <th>4</th>\n",
       "      <td>5</td>\n",
       "      <td>Educational Researcher</td>\n",
       "      <td>https://www.scimagojr.com/journalsearch.php?q=...</td>\n",
       "      <td>journal</td>\n",
       "      <td>3.374 Q1</td>\n",
       "      <td>133</td>\n",
       "      <td>77</td>\n",
       "      <td>176</td>\n",
       "      <td>3355</td>\n",
       "      <td>1219</td>\n",
       "      <td>164</td>\n",
       "      <td>6.79</td>\n",
       "      <td>43.57</td>\n",
       "      <td>United States</td>\n",
       "    </tr>\n",
       "  </tbody>\n",
       "</table>\n",
       "</div>"
      ],
      "text/plain": [
       "  Rank                         Journal  \\\n",
       "0    1  Review of Educational Research   \n",
       "1    2   Internet and Higher Education   \n",
       "2    3         Computers and Education   \n",
       "3    4            Developmental Review   \n",
       "4    5          Educational Researcher   \n",
       "\n",
       "                                                Link     Type       SJR  \\\n",
       "0  https://www.scimagojr.com/journalsearch.php?q=...  journal  6.887 Q1   \n",
       "1  https://www.scimagojr.com/journalsearch.php?q=...  journal  3.906 Q1   \n",
       "2  https://www.scimagojr.com/journalsearch.php?q=...  journal  3.676 Q1   \n",
       "3  https://www.scimagojr.com/journalsearch.php?q=...  journal  3.485 Q1   \n",
       "4  https://www.scimagojr.com/journalsearch.php?q=...  journal  3.374 Q1   \n",
       "\n",
       "  H Index Total Docs (2021) Total Docs (3yrs) Total Refs (2021)  \\\n",
       "0     163                31                71              3642   \n",
       "1      99                28                68              1991   \n",
       "2     197               185               640             13186   \n",
       "3     100                32                69              4892   \n",
       "4     133                77               176              3355   \n",
       "\n",
       "  Total Cites (3yrs) Citable Docs (3yrs) Cites/Doc (2Yrs) Ref/Doc (2021)  \\\n",
       "0               1272                  70            14.81         117.48   \n",
       "1                875                  68            10.80          71.11   \n",
       "2               9202                 638            13.71          71.28   \n",
       "3                726                  68             8.09         152.88   \n",
       "4               1219                 164             6.79          43.57   \n",
       "\n",
       "          Country  \n",
       "0   United States  \n",
       "1  United Kingdom  \n",
       "2  United Kingdom  \n",
       "3   United States  \n",
       "4   United States  "
      ]
     },
     "execution_count": 7,
     "metadata": {},
     "output_type": "execute_result"
    }
   ],
   "source": [
    "jPrimaryDF = pd.DataFrame(jPrimaryList, columns=['Rank', 'Journal', 'Link', 'Type', 'SJR', 'H Index', 'Total Docs (2021)', 'Total Docs (3yrs)', 'Total Refs (2021)', 'Total Cites (3yrs)', 'Citable Docs (3yrs)', 'Cites/Doc (2Yrs)', 'Ref/Doc (2021)', 'Country'])\n",
    "jPrimaryDF.head()"
   ]
  },
  {
   "cell_type": "code",
   "execution_count": 8,
   "metadata": {},
   "outputs": [],
   "source": [
    "jPrimaryDF.to_excel('scimago journals v2.xlsx', index = False)"
   ]
  },
  {
   "cell_type": "code",
   "execution_count": null,
   "metadata": {},
   "outputs": [],
   "source": []
  }
 ],
 "metadata": {
  "kernelspec": {
   "display_name": "Python 3 (ipykernel)",
   "language": "python",
   "name": "python3"
  },
  "language_info": {
   "codemirror_mode": {
    "name": "ipython",
    "version": 3
   },
   "file_extension": ".py",
   "mimetype": "text/x-python",
   "name": "python",
   "nbconvert_exporter": "python",
   "pygments_lexer": "ipython3",
   "version": "3.9.13"
  },
  "vscode": {
   "interpreter": {
    "hash": "dc07d24e2f18896857f0b2a651fe84ba40ce7b297e58d8804a308c8039f752a6"
   }
  }
 },
 "nbformat": 4,
 "nbformat_minor": 2
}
